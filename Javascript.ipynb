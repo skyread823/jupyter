{
  "nbformat": 4,
  "nbformat_minor": 0,
  "metadata": {
    "colab": {
      "name": "Javascript.ipynb",
      "provenance": [],
      "collapsed_sections": [],
      "include_colab_link": true
    },
    "kernelspec": {
      "name": "python3",
      "display_name": "Python 3"
    },
    "accelerator": "GPU"
  },
  "cells": [
    {
      "cell_type": "markdown",
      "metadata": {
        "id": "view-in-github",
        "colab_type": "text"
      },
      "source": [
        "<a href=\"https://colab.research.google.com/github/skyread823/jupyter/blob/main/Javascript.ipynb\" target=\"_parent\"><img src=\"https://colab.research.google.com/assets/colab-badge.svg\" alt=\"Open In Colab\"/></a>"
      ]
    },
    {
      "cell_type": "markdown",
      "metadata": {
        "id": "jgegSF_ylewB"
      },
      "source": [
        "#colab安装node环境\n",
        " 教程：https://dev.to/obenjiro/silence-of-the-fans-part-1-javascript-quickstart-5f3m"
      ]
    },
    {
      "cell_type": "code",
      "metadata": {
        "id": "oMSuTc3pDlHv",
        "colab": {
          "base_uri": "https://localhost:8080/"
        },
        "outputId": "53c8e33f-f290-43d3-9c7b-3cc48e4ab7b9"
      },
      "source": [
        "!npm install -g npm@latest\n",
        "!npm cache verify\n",
        "!npm install -g --unsafe-perm ijavascript\n",
        "!ijsinstall --install=global\n",
        "!jupyter-kernelspec list"
      ],
      "execution_count": 1,
      "outputs": [
        {
          "output_type": "stream",
          "text": [
            "\u001b[K\u001b[?25h/tools/node/bin/npm -> /tools/node/lib/node_modules/npm/bin/npm-cli.js\n",
            "/tools/node/bin/npx -> /tools/node/lib/node_modules/npm/bin/npx-cli.js\n",
            "\u001b[K\u001b[?25h+ npm@6.14.9\n",
            "added 5 packages from 3 contributors, removed 4 packages and updated 3 packages in 19.819s\n",
            "Cache verified and compressed (~/.npm/_cacache):\n",
            "Content verified: 77 (15832207 bytes)\n",
            "Content garbage-collected: 1 (1390142 bytes)\n",
            "Index entries: 78\n",
            "Finished in 0.532s\n",
            "\u001b[K\u001b[?25h/tools/node/bin/ijs -> /tools/node/lib/node_modules/ijavascript/bin/ijavascript.js\n",
            "/tools/node/bin/ijsconsole -> /tools/node/lib/node_modules/ijavascript/bin/ijsconsole.js\n",
            "/tools/node/bin/ijsinstall -> /tools/node/lib/node_modules/ijavascript/bin/ijsinstall.js\n",
            "/tools/node/bin/ijskernel -> /tools/node/lib/node_modules/ijavascript/lib/kernel.js\n",
            "/tools/node/bin/ijsnotebook -> /tools/node/lib/node_modules/ijavascript/bin/ijsnotebook.js\n",
            "\n",
            "> zeromq@5.2.0 install /tools/node/lib/node_modules/ijavascript/node_modules/zeromq\n",
            "> node scripts/prebuild-install.js || (node scripts/preinstall.js && node-gyp rebuild)\n",
            "\n",
            "\n",
            "\n",
            "+ ijavascript@5.2.0\n",
            "added 66 packages from 65 contributors in 3.755s\n",
            "Available kernels:\n",
            "  ir            /usr/local/share/jupyter/kernels/ir\n",
            "  javascript    /usr/local/share/jupyter/kernels/javascript\n",
            "  python2       /usr/local/share/jupyter/kernels/python2\n",
            "  python3       /usr/local/share/jupyter/kernels/python3\n",
            "  swift         /usr/local/share/jupyter/kernels/swift\n"
          ],
          "name": "stdout"
        }
      ]
    },
    {
      "cell_type": "code",
      "metadata": {
        "id": "5NPD4hz1khzg"
      },
      "source": [
        "var { spawn } = require('child_process');\n",
        "var sh = (cmd) => {\n",
        "    $$.async();\n",
        "    var sp = spawn(cmd, { cwd: process.cwd(), stdio: 'pipe', shell: true, encoding: 'utf-8' });\n",
        "    sp.stdout.on('data', data => console.log(data.toString()));\n",
        "    sp.stderr.on('data', data => console.error(data.toString()));\n",
        "    sp.on('close', () => $$.done());\n",
        "};"
      ],
      "execution_count": 3,
      "outputs": []
    },
    {
      "cell_type": "code",
      "metadata": {
        "colab": {
          "base_uri": "https://localhost:8080/"
        },
        "id": "H5kSWywXk6mG",
        "outputId": "7d5f0e1f-297f-49fc-af2c-d8ecd2badc58"
      },
      "source": [
        "sh('npm init -y');\n",
        "sh('node -v; npm -v');\n",
        "sh('npm install @tensorflow/tfjs-node-gpu');"
      ],
      "execution_count": 14,
      "outputs": [
        {
          "output_type": "stream",
          "text": [
            "\n",
            "> @tensorflow/tfjs-node-gpu@2.7.0 install /content/node_modules/@tensorflow/tfjs-node-gpu\n",
            "> node scripts/install.js gpu download\n",
            "\n",
            "\n",
            "GPU-linux-2.7.0.tar.gz\n",
            "\n"
          ],
          "name": "stdout"
        },
        {
          "output_type": "stream",
          "text": [
            "* Downloading libtensorflow\n",
            "\n",
            "\n",
            "\n",
            "* Building TensorFlow Node.js bindings\n",
            "\n",
            "npm\n",
            " WARN content@1.0.0 No description\n",
            "\n",
            "npm\n",
            " WARN content@1.0.0 No repository field.\n",
            "\n",
            "\n"
          ],
          "name": "stderr"
        },
        {
          "output_type": "stream",
          "text": [
            "+ @tensorflow/tfjs-node-gpu@2.7.0\n",
            "updated 1 package and audited 122 packages in 9.222s\n",
            "\n",
            "found 0 vulnerabilities\n",
            "\n",
            "\n"
          ],
          "name": "stdout"
        }
      ]
    },
    {
      "cell_type": "code",
      "metadata": {
        "id": "Pxaqwmxgk-Vr"
      },
      "source": [
        "var run_async = async (pf) => {\n",
        "  $$.async();\n",
        "  await pf();\n",
        "  $$.done();\n",
        "};"
      ],
      "execution_count": 7,
      "outputs": []
    },
    {
      "cell_type": "code",
      "metadata": {
        "colab": {
          "base_uri": "https://localhost:8080/",
          "height": 263
        },
        "id": "z_dkL13NlD0Z",
        "outputId": "1129e484-541b-4f78-d0d8-8f6ed9efc27d"
      },
      "source": [
        "var data;\n",
        "// may take a lot of time to download files for the first time\n",
        "run_async(async function () {\n",
        "  data = new MnistDataset();\n",
        "  await data.loadData();  // async code that fetches MNINST dataset\n",
        "\n",
        "  console.log(data.getTrainData());\n",
        "})"
      ],
      "execution_count": 12,
      "outputs": [
        {
          "output_type": "error",
          "ename": "ReferenceError",
          "evalue": "ignored",
          "traceback": [
            "ReferenceError: MnistDataset is not defined",
            "    at evalmachine.<anonymous>:4:3",
            "    at run_async (evalmachine.<anonymous>:3:9)",
            "    at evalmachine.<anonymous>:3:1",
            "    at Script.runInThisContext (vm.js:116:20)",
            "    at Object.runInThisContext (vm.js:306:38)",
            "    at run ([eval]:1054:15)",
            "    at onRunRequest ([eval]:888:18)",
            "    at onMessage ([eval]:848:13)",
            "    at process.emit (events.js:223:5)",
            "    at emit (internal/child_process.js:876:12)"
          ]
        }
      ]
    },
    {
      "cell_type": "code",
      "metadata": {
        "id": "QdykUT74lImv"
      },
      "source": [
        ""
      ],
      "execution_count": null,
      "outputs": []
    }
  ]
}