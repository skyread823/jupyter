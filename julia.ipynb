{
  "nbformat": 4,
  "nbformat_minor": 0,
  "metadata": {
    "colab": {
      "name": "julia.ipynb",
      "provenance": [],
      "collapsed_sections": [],
      "include_colab_link": true
    },
    "kernelspec": {
      "name": "julia-1.5",
      "display_name": "Julia 1.5"
    },
    "accelerator": "GPU"
  },
  "cells": [
    {
      "cell_type": "markdown",
      "metadata": {
        "id": "view-in-github",
        "colab_type": "text"
      },
      "source": [
        "<a href=\"https://colab.research.google.com/github/skyread823/jupyter/blob/main/julia.ipynb\" target=\"_parent\"><img src=\"https://colab.research.google.com/assets/colab-badge.svg\" alt=\"Open In Colab\"/></a>"
      ]
    },
    {
      "cell_type": "markdown",
      "metadata": {
        "id": "-ORBuguTaD1r"
      },
      "source": [
        "## colab安装julia\n",
        "教程：https://discourse.juliacn.com/t/topic/3239\n",
        "\n"
      ]
    },
    {
      "cell_type": "code",
      "metadata": {
        "id": "oMSuTc3pDlHv",
        "colab": {
          "base_uri": "https://localhost:8080/"
        },
        "outputId": "bf95fb8e-4bf6-4a3f-d651-e4e5178bbd82"
      },
      "source": [
        "!curl -sSL \"https://julialang-s3.julialang.org/bin/linux/x64/1.5/julia-1.5.0-linux-x86_64.tar.gz\" -o julia.tar.gz\n",
        "!tar -xzf julia.tar.gz -C /usr --strip-components 1\n",
        "!rm -rf julia.tar.gz*\n",
        "!julia -e 'using Pkg; pkg\" up; add IJulia ;  precompile\"'"
      ],
      "execution_count": null,
      "outputs": [
        {
          "output_type": "stream",
          "text": [
            "\u001b[32m\u001b[1m Installing\u001b[22m\u001b[39m known registries into `~/.julia`\n",
            "######################################################################## 100.0%\n",
            "\u001b[32m\u001b[1m      Added\u001b[22m\u001b[39m registry `General` to `~/.julia/registries/General`\n",
            "\u001b[32m\u001b[1m   Updating\u001b[22m\u001b[39m registry at `~/.julia/registries/General`\n",
            "\u001b[32m\u001b[1mNo Changes\u001b[22m\u001b[39m to `~/.julia/environments/v1.5/Project.toml`\n",
            "\u001b[32m\u001b[1mNo Changes\u001b[22m\u001b[39m to `~/.julia/environments/v1.5/Manifest.toml`\n",
            "\u001b[32m\u001b[1m  Resolving\u001b[22m\u001b[39m package versions...\n",
            "\u001b[32m\u001b[1m  Installed\u001b[22m\u001b[39m ZeroMQ_jll ────── v4.3.2+5\n",
            "\u001b[32m\u001b[1m  Installed\u001b[22m\u001b[39m VersionParsing ── v1.2.0\n",
            "\u001b[32m\u001b[1m  Installed\u001b[22m\u001b[39m Conda ─────────── v1.5.0\n",
            "\u001b[32m\u001b[1m  Installed\u001b[22m\u001b[39m ZMQ ───────────── v1.2.1\n",
            "\u001b[32m\u001b[1m  Installed\u001b[22m\u001b[39m SoftGlobalScope ─ v1.1.0\n",
            "\u001b[32m\u001b[1m  Installed\u001b[22m\u001b[39m JLLWrappers ───── v1.1.3\n",
            "\u001b[32m\u001b[1m  Installed\u001b[22m\u001b[39m JSON ──────────── v0.21.1\n",
            "\u001b[32m\u001b[1m  Installed\u001b[22m\u001b[39m IJulia ────────── v1.23.0\n",
            "\u001b[32m\u001b[1m  Installed\u001b[22m\u001b[39m Artifacts ─────── v1.3.0\n",
            "\u001b[32m\u001b[1m  Installed\u001b[22m\u001b[39m MbedTLS_jll ───── v2.16.8+1\n",
            "\u001b[32m\u001b[1m  Installed\u001b[22m\u001b[39m Parsers ───────── v1.0.12\n",
            "\u001b[32m\u001b[1m  Installed\u001b[22m\u001b[39m MbedTLS ───────── v1.0.3\n",
            "\u001b[32m\u001b[1mDownloading\u001b[22m\u001b[39m artifact: ZeroMQ\n",
            "######################################################################## 100.0%\n",
            "\u001b[1A\u001b[2K\u001b[?25h\u001b[32m\u001b[1mDownloading\u001b[22m\u001b[39m artifact: MbedTLS\n",
            "######################################################################## 100.0%\n",
            "\u001b[1A\u001b[2K\u001b[?25h\u001b[32m\u001b[1mUpdating\u001b[22m\u001b[39m `~/.julia/environments/v1.5/Project.toml`\n",
            " \u001b[90m [7073ff75] \u001b[39m\u001b[92m+ IJulia v1.23.0\u001b[39m\n",
            "\u001b[32m\u001b[1mUpdating\u001b[22m\u001b[39m `~/.julia/environments/v1.5/Manifest.toml`\n",
            " \u001b[90m [56f22d72] \u001b[39m\u001b[92m+ Artifacts v1.3.0\u001b[39m\n",
            " \u001b[90m [8f4d0f93] \u001b[39m\u001b[92m+ Conda v1.5.0\u001b[39m\n",
            " \u001b[90m [7073ff75] \u001b[39m\u001b[92m+ IJulia v1.23.0\u001b[39m\n",
            " \u001b[90m [692b3bcd] \u001b[39m\u001b[92m+ JLLWrappers v1.1.3\u001b[39m\n",
            " \u001b[90m [682c06a0] \u001b[39m\u001b[92m+ JSON v0.21.1\u001b[39m\n",
            " \u001b[90m [739be429] \u001b[39m\u001b[92m+ MbedTLS v1.0.3\u001b[39m\n",
            " \u001b[90m [c8ffd9c3] \u001b[39m\u001b[92m+ MbedTLS_jll v2.16.8+1\u001b[39m\n",
            " \u001b[90m [69de0a69] \u001b[39m\u001b[92m+ Parsers v1.0.12\u001b[39m\n",
            " \u001b[90m [b85f4697] \u001b[39m\u001b[92m+ SoftGlobalScope v1.1.0\u001b[39m\n",
            " \u001b[90m [81def892] \u001b[39m\u001b[92m+ VersionParsing v1.2.0\u001b[39m\n",
            " \u001b[90m [c2297ded] \u001b[39m\u001b[92m+ ZMQ v1.2.1\u001b[39m\n",
            " \u001b[90m [8f1865be] \u001b[39m\u001b[92m+ ZeroMQ_jll v4.3.2+5\u001b[39m\n",
            " \u001b[90m [2a0f44e3] \u001b[39m\u001b[92m+ Base64\u001b[39m\n",
            " \u001b[90m [ade2ca70] \u001b[39m\u001b[92m+ Dates\u001b[39m\n",
            " \u001b[90m [8ba89e20] \u001b[39m\u001b[92m+ Distributed\u001b[39m\n",
            " \u001b[90m [7b1f6079] \u001b[39m\u001b[92m+ FileWatching\u001b[39m\n",
            " \u001b[90m [b77e0a4c] \u001b[39m\u001b[92m+ InteractiveUtils\u001b[39m\n",
            " \u001b[90m [76f85450] \u001b[39m\u001b[92m+ LibGit2\u001b[39m\n",
            " \u001b[90m [8f399da3] \u001b[39m\u001b[92m+ Libdl\u001b[39m\n",
            " \u001b[90m [56ddb016] \u001b[39m\u001b[92m+ Logging\u001b[39m\n",
            " \u001b[90m [d6f4376e] \u001b[39m\u001b[92m+ Markdown\u001b[39m\n",
            " \u001b[90m [a63ad114] \u001b[39m\u001b[92m+ Mmap\u001b[39m\n",
            " \u001b[90m [44cfe95a] \u001b[39m\u001b[92m+ Pkg\u001b[39m\n",
            " \u001b[90m [de0858da] \u001b[39m\u001b[92m+ Printf\u001b[39m\n",
            " \u001b[90m [3fa0cd96] \u001b[39m\u001b[92m+ REPL\u001b[39m\n",
            " \u001b[90m [9a3f8284] \u001b[39m\u001b[92m+ Random\u001b[39m\n",
            " \u001b[90m [ea8e919c] \u001b[39m\u001b[92m+ SHA\u001b[39m\n",
            " \u001b[90m [9e88b42a] \u001b[39m\u001b[92m+ Serialization\u001b[39m\n",
            " \u001b[90m [6462fe0b] \u001b[39m\u001b[92m+ Sockets\u001b[39m\n",
            " \u001b[90m [8dfed614] \u001b[39m\u001b[92m+ Test\u001b[39m\n",
            " \u001b[90m [cf7118a7] \u001b[39m\u001b[92m+ UUIDs\u001b[39m\n",
            " \u001b[90m [4ec0a83e] \u001b[39m\u001b[92m+ Unicode\u001b[39m\n",
            "\u001b[32m\u001b[1m   Building\u001b[22m\u001b[39m Conda ─→ `~/.julia/packages/Conda/x5ml4/deps/build.log`\n",
            "\u001b[32m\u001b[1m   Building\u001b[22m\u001b[39m IJulia → `~/.julia/packages/IJulia/ljYVo/deps/build.log`\n",
            "\u001b[32m\u001b[1mPrecompiling\u001b[22m\u001b[39m project...\n"
          ],
          "name": "stdout"
        }
      ]
    },
    {
      "cell_type": "markdown",
      "metadata": {
        "id": "mXmhn_fVaOvk"
      },
      "source": [
        "执行后重启下内核"
      ]
    },
    {
      "cell_type": "code",
      "metadata": {
        "colab": {
          "base_uri": "https://localhost:8080/"
        },
        "id": "soOQpjm9YNUJ",
        "outputId": "26f77705-f35d-45c7-9c43-4ca5f20f32b4"
      },
      "source": [
        "println(\"Hello World\")"
      ],
      "execution_count": 5,
      "outputs": [
        {
          "output_type": "stream",
          "text": [
            "Hello World\n"
          ],
          "name": "stdout"
        }
      ]
    },
    {
      "cell_type": "code",
      "metadata": {
        "colab": {
          "base_uri": "https://localhost:8080/",
          "height": 155
        },
        "id": "r08zS_jEYU_1",
        "outputId": "0e91ecea-3ec9-469b-e88a-81d4c311d181"
      },
      "source": [
        "!help"
      ],
      "execution_count": null,
      "outputs": [
        {
          "output_type": "error",
          "ename": "LoadError",
          "evalue": "ignored",
          "traceback": [
            "UndefVarError: help not defined",
            "",
            "Stacktrace:",
            " [1] top-level scope at In[3]:1",
            " [2] include_string(::Function, ::Module, ::String, ::String) at ./loading.jl:1091"
          ]
        }
      ]
    },
    {
      "cell_type": "code",
      "metadata": {
        "colab": {
          "base_uri": "https://localhost:8080/",
          "height": 137
        },
        "id": "-HzNVoxGb0ST",
        "outputId": "33cd3102-7ffa-402c-d486-8492f2884479"
      },
      "source": [
        "!name -r"
      ],
      "execution_count": null,
      "outputs": [
        {
          "output_type": "error",
          "ename": "UndefVarError",
          "evalue": "ignored",
          "traceback": [
            "UndefVarError: name not defined",
            "",
            "Stacktrace:",
            " [1] top-level scope at In[14]:1"
          ]
        }
      ]
    },
    {
      "cell_type": "code",
      "metadata": {
        "colab": {
          "base_uri": "https://localhost:8080/"
        },
        "id": "JCSvyuQOdD34",
        "outputId": "52b2bf98-ad05-47d6-c64c-323582cb4433"
      },
      "source": [
        "!jupyter-kernelspec  list\n"
      ],
      "execution_count": null,
      "outputs": [
        {
          "output_type": "stream",
          "text": [
            "Available kernels:\n",
            "  julia-1.4     /root/.local/share/jupyter/kernels/julia-1.4\n",
            "  ir            /usr/local/share/jupyter/kernels/ir\n",
            "  javascript    /usr/local/share/jupyter/kernels/javascript\n",
            "  python2       /usr/local/share/jupyter/kernels/python2\n",
            "  python3       /usr/local/share/jupyter/kernels/python3\n",
            "  swift         /usr/local/share/jupyter/kernels/swift\n"
          ],
          "name": "stdout"
        }
      ]
    },
    {
      "cell_type": "code",
      "metadata": {
        "colab": {
          "base_uri": "https://localhost:8080/"
        },
        "id": "te8q-E4OeXQg",
        "outputId": "fcb13780-542b-48b4-dadd-1fb728b3cb18"
      },
      "source": [
        "!npm install -g npm@latest\n",
        "!npm cache verify\n",
        "!npm install -g --unsafe-perm ijavascript\n",
        "!ijsinstall --install=global\n",
        "!jupyter-kernelspec list"
      ],
      "execution_count": null,
      "outputs": [
        {
          "output_type": "stream",
          "text": [
            "\u001b[K\u001b[?25h/tools/node/bin/npx -> /tools/node/lib/node_modules/npm/bin/npx-cli.js\n",
            "/tools/node/bin/npm -> /tools/node/lib/node_modules/npm/bin/npm-cli.js\n",
            "\u001b[K\u001b[?25h+ npm@6.14.9\n",
            "added 5 packages from 3 contributors, removed 4 packages and updated 3 packages in 19.249s\n",
            "Cache verified and compressed (~/.npm/_cacache):\n",
            "Content verified: 77 (15832207 bytes)\n",
            "Content garbage-collected: 1 (1390142 bytes)\n",
            "Index entries: 78\n",
            "Finished in 0.536s\n",
            "\u001b[K\u001b[?25h/tools/node/bin/ijs -> /tools/node/lib/node_modules/ijavascript/bin/ijavascript.js\n",
            "/tools/node/bin/ijsconsole -> /tools/node/lib/node_modules/ijavascript/bin/ijsconsole.js\n",
            "/tools/node/bin/ijsinstall -> /tools/node/lib/node_modules/ijavascript/bin/ijsinstall.js\n",
            "/tools/node/bin/ijskernel -> /tools/node/lib/node_modules/ijavascript/lib/kernel.js\n",
            "/tools/node/bin/ijsnotebook -> /tools/node/lib/node_modules/ijavascript/bin/ijsnotebook.js\n",
            "\n",
            "> zeromq@5.2.0 install /tools/node/lib/node_modules/ijavascript/node_modules/zeromq\n",
            "> node scripts/prebuild-install.js || (node scripts/preinstall.js && node-gyp rebuild)\n",
            "\n",
            "\n",
            "\n",
            "+ ijavascript@5.2.0\n",
            "added 66 packages from 65 contributors in 3.191s\n",
            "Available kernels:\n",
            "  julia-1.4     /root/.local/share/jupyter/kernels/julia-1.4\n",
            "  ir            /usr/local/share/jupyter/kernels/ir\n",
            "  javascript    /usr/local/share/jupyter/kernels/javascript\n",
            "  python2       /usr/local/share/jupyter/kernels/python2\n",
            "  python3       /usr/local/share/jupyter/kernels/python3\n",
            "  swift         /usr/local/share/jupyter/kernels/swift\n"
          ],
          "name": "stdout"
        }
      ]
    },
    {
      "cell_type": "code",
      "metadata": {
        "colab": {
          "base_uri": "https://localhost:8080/"
        },
        "id": "oAv8_mhXf5Ot",
        "outputId": "3cf8c64f-6491-4d43-8305-72feaece5005"
      },
      "source": [
        "!find /|grep  test.ipynb"
      ],
      "execution_count": null,
      "outputs": [
        {
          "output_type": "stream",
          "text": [
            "/usr/local/lib/python3.6/dist-packages/nbconvert/exporters/tests/files/rawtest.ipynb\n",
            "/usr/local/lib/python2.7/dist-packages/nbconvert/exporters/tests/files/rawtest.ipynb\n",
            "find: ‘/proc/91/task/91/net’: Invalid argument\n",
            "find: ‘/proc/91/net’: Invalid argument\n"
          ],
          "name": "stdout"
        }
      ]
    },
    {
      "cell_type": "code",
      "metadata": {
        "colab": {
          "base_uri": "https://localhost:8080/"
        },
        "id": "X3TYTL-9g8YX",
        "outputId": "c4af06c7-eb23-4e6f-9183-1fd5c927a914"
      },
      "source": [
        "!ps -fe "
      ],
      "execution_count": null,
      "outputs": [
        {
          "output_type": "stream",
          "text": [
            "UID          PID    PPID  C STIME TTY          TIME CMD\n",
            "root           1       0  0 06:25 ?        00:00:03 /tools/node/bin/node /datala\n",
            "root          16       0  0 06:25 ?        00:00:00 tail -n +0 -F /root/.config/\n",
            "root          51       1  0 06:25 ?        00:00:04 /usr/bin/python2 /usr/local/\n",
            "root          91       1  0 06:26 ?        00:00:00 [julia] <defunct>\n",
            "root         385      51  0 06:58 ?        00:00:01 /usr/bin/python3 -m ipykerne\n",
            "root         563     385  0 07:04 ?        00:00:00 ps -fe\n"
          ],
          "name": "stdout"
        }
      ]
    },
    {
      "cell_type": "code",
      "metadata": {
        "id": "aiLiOC0KhI4e"
      },
      "source": [
        ""
      ],
      "execution_count": null,
      "outputs": []
    }
  ]
}